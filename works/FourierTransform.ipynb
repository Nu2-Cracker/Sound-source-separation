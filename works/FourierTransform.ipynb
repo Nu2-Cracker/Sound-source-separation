{
 "cells": [
  {
   "cell_type": "code",
   "execution_count": 18,
   "metadata": {
    "collapsed": false,
    "inputHidden": false,
    "outputHidden": false
   },
   "outputs": [],
   "source": [
    "import wave as wave\n",
    "\n",
    "#numpyをインポート（波形データを2byteの数値列に変換するために使用）\n",
    "import numpy as np\n",
    "\n",
    "#scipyのsignalモジュールをインポート（stft等信号処理計算用)\n",
    "import scipy.signal as sp\n",
    "\n",
    "#読み込むサンプルファイル\n",
    "sample_wave_file=\"./CMU_ARCTIC/cmu_us_aew_arctic/wav/arctic_a0001.wav\""
   ]
  },
  {
   "cell_type": "code",
   "execution_count": 21,
   "metadata": {
    "collapsed": false,
    "inputHidden": false,
    "outputHidden": false
   },
   "outputs": [],
   "source": [
    "wav = wave.open(sample_wave_file)\n",
    "\n",
    "#PCM形式の波形データの読み込み\n",
    "data = wav.readframes(wav.getnframes())"
   ]
  },
  {
   "cell_type": "code",
   "execution_count": 22,
   "metadata": {
    "collapsed": false,
    "inputHidden": false,
    "outputHidden": false
   },
   "outputs": [],
   "source": [
    "#dataを2バイトの数値列に変換\n",
    "data = np.frombuffer(data, dtype=np.int16)\n"
   ]
  },
  {
   "cell_type": "code",
   "execution_count": 23,
   "metadata": {
    "collapsed": false,
    "inputHidden": false,
    "outputHidden": false
   },
   "outputs": [],
   "source": [
    "#短時間フーリエ解析を行う\n",
    "f, t, stft_data = sp.stft(data, fs=wav.getnframes(), window=\"hann\", nperseg=512, noverlap=256)\n",
    "\"\"\"\n",
    "nperseg窓の数??\n",
    "noverlapはどうやらnpersegの1/2らしい\n",
    "\n",
    "\n",
    "\"\"\"\n",
    "#時間領域の波形に戻す\n",
    "t,data_post=sp.istft(stft_data,fs=wav.getframerate(),window=\"hann\",nperseg=512,noverlap=256)\n",
    "\n"
   ]
  },
  {
   "cell_type": "code",
   "execution_count": 28,
   "metadata": {
    "collapsed": false,
    "inputHidden": false,
    "outputHidden": false
   },
   "outputs": [],
   "source": [
    "#2バイトのデータに変換\n",
    "data_post=data_post.astype(np.int16)\n",
    "\n",
    "#waveファイルに書き込む\n",
    "wave_out = wave.open(\"./istft_post_wave.wav\", 'w')\n",
    "\n",
    "#モノラル:1、ステレオ:2\n",
    "wave_out.setnchannels(1)\n",
    "\n",
    "#サンプルサイズ2byte\n",
    "wave_out.setsampwidth(2)\n",
    "\n",
    "#サンプリング周波数\n",
    "wave_out.setframerate(wav.getframerate())\n",
    "\n",
    "#データを書き込み\n",
    "wave_out.writeframes(data_post)\n",
    "\n",
    "#ファイルを閉じる\n",
    "wave_out.close()\n",
    "\n",
    "#waveファイルを閉じる\n",
    "wav.close()"
   ]
  },
  {
   "cell_type": "code",
   "execution_count": 29,
   "metadata": {
    "collapsed": false,
    "inputHidden": false,
    "outputHidden": false
   },
   "outputs": [],
   "source": []
  },
  {
   "cell_type": "code",
   "execution_count": 29,
   "metadata": {
    "collapsed": false,
    "inputHidden": false,
    "outputHidden": false
   },
   "outputs": [],
   "source": []
  },
  {
   "cell_type": "code",
   "execution_count": null,
   "metadata": {
    "collapsed": false,
    "inputHidden": false,
    "outputHidden": false
   },
   "outputs": [],
   "source": []
  }
 ],
 "metadata": {
  "kernelspec": {
   "display_name": "Python 3",
   "language": "python",
   "name": "python3"
  },
  "language_info": {
   "codemirror_mode": {
    "name": "ipython",
    "version": 3
   },
   "file_extension": ".py",
   "mimetype": "text/x-python",
   "name": "python",
   "nbconvert_exporter": "python",
   "pygments_lexer": "ipython3",
   "version": "3.9.3"
  },
  "nteract": {
   "version": "nteract-on-jupyter@2.1.3"
  }
 },
 "nbformat": 4,
 "nbformat_minor": 2
}
