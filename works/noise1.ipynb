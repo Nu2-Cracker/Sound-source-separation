{
 "cells": [
  {
   "cell_type": "code",
   "execution_count": 2,
   "metadata": {},
   "outputs": [
    {
     "name": "stdout",
     "output_type": "stream",
     "text": [
      "再生開始\n"
     ]
    }
   ],
   "source": [
    "\n",
    "#wave形式の音声波形を読み込むためのモジュール(wave)をインポート\n",
    "import wave as wave\n",
    "\n",
    "#numpyをインポート（波形データを2byteの数値列に変換するために使用）\n",
    "import numpy as np\n",
    "\n",
    "#可視化のためにmatplotlibモジュールをインポート\n",
    "import matplotlib.pyplot as plt\n",
    "\n",
    "#sounddeviceモジュールをインポート\n",
    "import sounddevice as sd\n",
    "\n",
    "#読み込むサンプルファイル\n",
    "sample_wave_file=\"./CMU_ARCTIC/cmu_us_aew_arctic/wav/arctic_a0001.wav\"\n",
    "\n",
    "#ファイルを読み込む\n",
    "wav=wave.open(sample_wave_file)\n",
    "\n",
    "#PCM形式の波形データを読み込み\n",
    "data=wav.readframes(wav.getnframes())\n",
    "\n",
    "#dataを2バイトの数値列に変換\n",
    "data=np.frombuffer(data, dtype=np.int16)\n",
    "\n",
    "#dataを再生する\n",
    "sd.play(data,wav.getframerate())\n",
    "\n",
    "print(\"再生開始\")\n",
    "\n",
    "#再生が終わるまで待つ\n",
    "status = sd.wait()"
   ]
  },
  {
   "cell_type": "code",
   "execution_count": null,
   "metadata": {
    "collapsed": false,
    "inputHidden": false,
    "outputHidden": false
   },
   "outputs": [],
   "source": []
  }
 ],
 "metadata": {
  "kernelspec": {
   "display_name": "Python 3",
   "language": "python",
   "name": "python3"
  },
  "language_info": {
   "codemirror_mode": {
    "name": "ipython",
    "version": 3
   },
   "file_extension": ".py",
   "mimetype": "text/x-python",
   "name": "python",
   "nbconvert_exporter": "python",
   "pygments_lexer": "ipython3",
   "version": "3.9.3"
  },
  "nteract": {
   "version": "nteract-on-jupyter@2.1.3"
  }
 },
 "nbformat": 4,
 "nbformat_minor": 2
}
