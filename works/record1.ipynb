{
 "cells": [
  {
   "cell_type": "code",
   "execution_count": 1,
   "metadata": {},
   "outputs": [],
   "source": [
    "\n",
    "#wave形式の音声波形を読み込むためのモジュール(wave)をインポート\n",
    "import wave as wave\n",
    "\n",
    "#numpyをインポート（波形データを2byteの数値列に変換するために使用）\n",
    "import numpy as np\n",
    "\n",
    "#可視化のためにmatplotlibモジュールをインポート\n",
    "import matplotlib.pyplot as plt\n",
    "\n",
    "#sounddeviceモジュールをインポート\n",
    "import sounddevice as sd"
   ]
  },
  {
   "cell_type": "code",
   "execution_count": 2,
   "metadata": {
    "collapsed": false,
    "inputHidden": false,
    "outputHidden": false
   },
   "outputs": [
    {
     "name": "stdout",
     "output_type": "stream",
     "text": [
      "録音開始\n"
     ]
    }
   ],
   "source": [
    "#録音する音声データの長さ (秒)\n",
    "wave_length=5\n",
    "\n",
    "#サンプリング周波数\n",
    "sample_rate=16000\n",
    "\n",
    "print(\"録音開始\")"
   ]
  },
  {
   "cell_type": "code",
   "execution_count": 3,
   "metadata": {
    "collapsed": false,
    "inputHidden": false,
    "outputHidden": false
   },
   "outputs": [],
   "source": [
    "# #録音開始\n",
    "# data = sd.rec(int(wave_length*sample_rate),sample_rate, channels=1)\n",
    "\n",
    "data = sd.rec(int(wave_length*sample_rate), sample_rate, channels=1)\n",
    "\n",
    "# #録音が終了するまで待つ\n",
    "# sd.wait() \n",
    "sd.wait()"
   ]
  },
  {
   "cell_type": "code",
   "execution_count": null,
   "metadata": {
    "collapsed": false,
    "inputHidden": false,
    "outputHidden": false
   },
   "outputs": [],
   "source": []
  }
 ],
 "metadata": {
  "kernelspec": {
   "display_name": "Python 3",
   "language": "python",
   "name": "python3"
  },
  "language_info": {
   "codemirror_mode": {
    "name": "ipython",
    "version": 3
   },
   "file_extension": ".py",
   "mimetype": "text/x-python",
   "name": "python",
   "nbconvert_exporter": "python",
   "pygments_lexer": "ipython3",
   "version": "3.9.3"
  },
  "nteract": {
   "version": "nteract-on-jupyter@2.1.3"
  }
 },
 "nbformat": 4,
 "nbformat_minor": 2
}
