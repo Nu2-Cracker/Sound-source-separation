{
 "cells": [
  {
   "cell_type": "code",
   "execution_count": 1,
   "metadata": {
    "collapsed": false,
    "inputHidden": false,
    "outputHidden": false
   },
   "outputs": [],
   "source": [
    "\n",
    "#wave形式の音声波形を読み込むためのモジュール(wave)をインポート\n",
    "import wave as wave\n",
    "\n",
    "#numpyをインポート（波形データを2byteの数値列に変換するために使用）\n",
    "import numpy as np\n",
    "\n",
    "#可視化のためにmatplotlibモジュールをインポート\n",
    "import matplotlib.pyplot as plt\n",
    "\n",
    "#pyroomacousticsをインポート (ここではデータセットをダウンロードするために使用)\n",
    "import pyroomacoustics as pa"
   ]
  },
  {
   "cell_type": "code",
   "execution_count": 2,
   "metadata": {
    "collapsed": false,
    "inputHidden": false,
    "outputHidden": false
   },
   "outputs": [
    {
     "name": "stdout",
     "output_type": "stream",
     "text": [
      "Download http://festvox.org/cmu_arctic/packed/cmu_us_aew_arctic.tar.bz2 into ./CMU_ARCTIC ...\n",
      "Download http://festvox.org/cmu_arctic/packed/cmu_us_axb_arctic.tar.bz2 into ./CMU_ARCTIC ...\n"
     ]
    },
    {
     "data": {
      "text/plain": [
       "<pyroomacoustics.datasets.cmu_arctic.CMUArcticCorpus at 0x7fa6dcf31ee0>"
      ]
     },
     "execution_count": 2,
     "metadata": {},
     "output_type": "execute_result"
    }
   ],
   "source": [
    "#CMU ARCTIC Corpusをカレントディレクトリにダウンロード\n",
    "# pa.datasets.CMUArcticCorpus(basedir=\"./CMU_ARCTIC\",download=True,speaker=[\"aew\",\"axb\"])\n",
    "\n",
    "pa.datasets.CMUArcticCorpus(basedir=\"./\", download=True, speakers=[\"aew\", \"axb\"])"
   ]
  },
  {
   "cell_type": "code",
   "execution_count": 3,
   "metadata": {
    "collapsed": false,
    "inputHidden": false,
    "outputHidden": false
   },
   "outputs": [],
   "source": [
    "\n",
    "#読み込むサンプルファイル\n",
    "sample_wave_file=\"./CMU_ARCTIC/cmu_us_aew_arctic/wav/arctic_a0001.wav\""
   ]
  },
  {
   "cell_type": "code",
   "execution_count": 4,
   "metadata": {
    "collapsed": false,
    "inputHidden": false,
    "outputHidden": false
   },
   "outputs": [],
   "source": [
    "#ファイルを読み込む\n",
    "wav=wave.open(sample_wave_file)"
   ]
  },
  {
   "cell_type": "code",
   "execution_count": 5,
   "metadata": {
    "collapsed": false,
    "inputHidden": false,
    "outputHidden": false
   },
   "outputs": [
    {
     "data": {
      "text/plain": [
       "wave.Wave_read"
      ]
     },
     "execution_count": 5,
     "metadata": {},
     "output_type": "execute_result"
    }
   ],
   "source": [
    "type(wav)"
   ]
  },
  {
   "cell_type": "code",
   "execution_count": 6,
   "metadata": {
    "collapsed": false,
    "inputHidden": false,
    "outputHidden": false
   },
   "outputs": [],
   "source": [
    "#PCM形式の波形データを読み込み\n",
    "data = wav.readframes(wav.getnframes())"
   ]
  },
  {
   "cell_type": "code",
   "execution_count": 7,
   "metadata": {
    "collapsed": false,
    "inputHidden": false,
    "outputHidden": false
   },
   "outputs": [
    {
     "data": {
      "text/plain": [
       "bytes"
      ]
     },
     "execution_count": 7,
     "metadata": {},
     "output_type": "execute_result"
    }
   ],
   "source": [
    "type(data) #波形データはバイト"
   ]
  },
  {
   "cell_type": "code",
   "execution_count": 8,
   "metadata": {
    "collapsed": false,
    "inputHidden": false,
    "outputHidden": false
   },
   "outputs": [],
   "source": [
    "#dataを2バイトの数値列に変換\n",
    "\"\"\"\n",
    "frombufferを使う\n",
    "numpyでint16型を指定\n",
    "\"\"\"\n",
    "data=np.frombuffer(data, dtype=np.int16)"
   ]
  },
  {
   "cell_type": "code",
   "execution_count": 9,
   "metadata": {
    "collapsed": false,
    "inputHidden": false,
    "outputHidden": false
   },
   "outputs": [
    {
     "data": {
      "text/plain": [
       "numpy.ndarray"
      ]
     },
     "execution_count": 9,
     "metadata": {},
     "output_type": "execute_result"
    }
   ],
   "source": [
    "\"\"\"\n",
    "np.frombufferでbyteを数値として扱える\n",
    "=>解析できる\n",
    "\"\"\"\n",
    "type(data)"
   ]
  },
  {
   "cell_type": "code",
   "execution_count": 10,
   "metadata": {
    "collapsed": false,
    "inputHidden": false,
    "outputHidden": false
   },
   "outputs": [],
   "source": [
    "\"\"\"\n",
    "最大値で正規化\n",
    "np.iinfo(np.int16).max  32767\n",
    "\n",
    "バイトをint16列に変換している\n",
    "\n",
    "このint16がとりうる最大の値が32767で最大値を指定しているのが\n",
    "np.iinfo(np.int16).max\n",
    "\"\"\"\n",
    "\n",
    "#dataの値を2バイトの変数が取り得る値の最大値で正規化\n",
    "data=data/np.iinfo(np.int16).max"
   ]
  },
  {
   "cell_type": "code",
   "execution_count": 11,
   "metadata": {
    "collapsed": false,
    "inputHidden": false,
    "outputHidden": false
   },
   "outputs": [
    {
     "name": "stdout",
     "output_type": "stream",
     "text": [
      "サンプリング周波数[Hz]:  16000\n",
      "サンプルサイズ[Byte]:  2\n",
      "サンプル数:  62081\n",
      "チャンネル数:  1\n"
     ]
    }
   ],
   "source": [
    "#ファイルの情報を出力する\n",
    "print(\"サンプリング周波数[Hz]: \",wav.getframerate()) \n",
    "print(\"サンプルサイズ[Byte]: \", wav.getsampwidth())\n",
    "print(\"サンプル数: \",wav.getnframes()) \n",
    "print(\"チャンネル数: \",wav.getnchannels()) "
   ]
  },
  {
   "cell_type": "code",
   "execution_count": 12,
   "metadata": {
    "collapsed": false,
    "inputHidden": false,
    "outputHidden": false
   },
   "outputs": [],
   "source": [
    "#x軸の値\n",
    "x=np.array(range(wav.getnframes()))/wav.getframerate()"
   ]
  },
  {
   "cell_type": "code",
   "execution_count": 13,
   "metadata": {
    "collapsed": false,
    "inputHidden": false,
    "outputHidden": false
   },
   "outputs": [
    {
     "data": {
      "image/png": "[encoded data removed]",
      "text/plain": [
       "<Figure size 720x288 with 1 Axes>"
      ]
     },
     "metadata": {
      "needs_background": "light"
     },
     "output_type": "display_data"
    }
   ],
   "source": [
    "#音声データをプロットする\n",
    "plt.figure(figsize=(10,4))\n",
    "\n",
    "#x軸のラベル\n",
    "plt.xlabel(\"Time [sec]\")\n",
    "\n",
    "#y軸のラベル\n",
    "plt.ylabel(\"Value [-1,1]\")\n",
    "\n",
    "#データをプロット\n",
    "plt.plot(x,data)\n",
    "\n",
    "#音声ファイルを画像として保存\n",
    "plt.savefig(\"./wave_form.png\")\n",
    "\n",
    "#画像を画面に表示\n",
    "plt.show()"
   ]
  },
  {
   "cell_type": "code",
   "execution_count": 14,
   "metadata": {
    "collapsed": false,
    "inputHidden": false,
    "outputHidden": false
   },
   "outputs": [],
   "source": []
  }
 ],
 "metadata": {
  "kernelspec": {
   "display_name": "Python 3",
   "language": "python",
   "name": "python3"
  },
  "language_info": {
   "codemirror_mode": {
    "name": "ipython",
    "version": 3
   },
   "file_extension": ".py",
   "mimetype": "text/x-python",
   "name": "python",
   "nbconvert_exporter": "python",
   "pygments_lexer": "ipython3",
   "version": "3.9.3"
  },
  "nteract": {
   "version": "nteract-on-jupyter@2.1.3"
  }
 },
 "nbformat": 4,
 "nbformat_minor": 2
}
